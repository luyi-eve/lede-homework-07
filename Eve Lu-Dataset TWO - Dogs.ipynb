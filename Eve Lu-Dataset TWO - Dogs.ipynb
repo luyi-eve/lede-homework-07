{
 "cells": [
  {
   "cell_type": "markdown",
   "metadata": {},
   "source": [
    "# Homework 7, Part Two: A dataset about dogs.\n",
    "\n",
    "Data from [a FOIL request to New York City](https://www.muckrock.com/foi/new-york-city-17/pet-licensing-data-for-new-york-city-23826/)"
   ]
  },
  {
   "cell_type": "markdown",
   "metadata": {},
   "source": [
    "## Do your importing and your setup"
   ]
  },
  {
   "cell_type": "code",
   "execution_count": 18,
   "metadata": {},
   "outputs": [],
   "source": [
    "import pandas as pd"
   ]
  },
  {
   "cell_type": "markdown",
   "metadata": {},
   "source": [
    "## Read in the file `NYC_Dog_Licenses_Current_as_of_4-28-2016.xlsx` and look at the first five rows"
   ]
  },
  {
   "cell_type": "code",
   "execution_count": 19,
   "metadata": {},
   "outputs": [],
   "source": [
    "df = pd.read_excel(\"NYC_Dog_Licenses_Current_as_of_4-28-2016.xlsx\")"
   ]
  },
  {
   "cell_type": "code",
   "execution_count": 20,
   "metadata": {},
   "outputs": [
    {
     "data": {
      "text/html": [
       "<div>\n",
       "<style scoped>\n",
       "    .dataframe tbody tr th:only-of-type {\n",
       "        vertical-align: middle;\n",
       "    }\n",
       "\n",
       "    .dataframe tbody tr th {\n",
       "        vertical-align: top;\n",
       "    }\n",
       "\n",
       "    .dataframe thead th {\n",
       "        text-align: right;\n",
       "    }\n",
       "</style>\n",
       "<table border=\"1\" class=\"dataframe\">\n",
       "  <thead>\n",
       "    <tr style=\"text-align: right;\">\n",
       "      <th></th>\n",
       "      <th>Owner Zip Code</th>\n",
       "      <th>Animal Name</th>\n",
       "      <th>Animal Gender</th>\n",
       "      <th>Primary Breed</th>\n",
       "      <th>Secondary Breed</th>\n",
       "      <th>Animal Dominant Color</th>\n",
       "      <th>Animal Secondary Color</th>\n",
       "      <th>Animal Third Color</th>\n",
       "      <th>Animal Birth</th>\n",
       "      <th>Spayed or Neut</th>\n",
       "      <th>Guard or Trained</th>\n",
       "      <th>Vaccinated</th>\n",
       "      <th>Application Date</th>\n",
       "      <th>License Issued Date</th>\n",
       "      <th>License Expired Date</th>\n",
       "    </tr>\n",
       "  </thead>\n",
       "  <tbody>\n",
       "    <tr>\n",
       "      <th>0</th>\n",
       "      <td>10024</td>\n",
       "      <td>BLUE MACK</td>\n",
       "      <td>M</td>\n",
       "      <td>Unknown</td>\n",
       "      <td>AIREDALE TERR</td>\n",
       "      <td>BROWN</td>\n",
       "      <td>BLACK</td>\n",
       "      <td>NaN</td>\n",
       "      <td>2007-11-01</td>\n",
       "      <td>Yes</td>\n",
       "      <td>No</td>\n",
       "      <td>Yes</td>\n",
       "      <td>2012-09-19 16:01:19.647</td>\n",
       "      <td>2015-09-19</td>\n",
       "      <td>2016-09-19</td>\n",
       "    </tr>\n",
       "    <tr>\n",
       "      <th>1</th>\n",
       "      <td>10461</td>\n",
       "      <td>Indie Zephir</td>\n",
       "      <td>M</td>\n",
       "      <td>Rottweiler</td>\n",
       "      <td>NaN</td>\n",
       "      <td>BLACK</td>\n",
       "      <td>TAN</td>\n",
       "      <td>NaN</td>\n",
       "      <td>2013-04-01</td>\n",
       "      <td>No</td>\n",
       "      <td>No</td>\n",
       "      <td>Yes</td>\n",
       "      <td>2013-09-20 11:41:36.647</td>\n",
       "      <td>2014-09-20</td>\n",
       "      <td>2018-09-20</td>\n",
       "    </tr>\n",
       "    <tr>\n",
       "      <th>2</th>\n",
       "      <td>10013</td>\n",
       "      <td>Bilal</td>\n",
       "      <td>M</td>\n",
       "      <td>Australian Cattledog</td>\n",
       "      <td>NaN</td>\n",
       "      <td>Rust</td>\n",
       "      <td>NaN</td>\n",
       "      <td>NaN</td>\n",
       "      <td>2014-09-01</td>\n",
       "      <td>Yes</td>\n",
       "      <td>NaN</td>\n",
       "      <td>No</td>\n",
       "      <td>2014-09-12 13:13:36.713</td>\n",
       "      <td>2014-09-12</td>\n",
       "      <td>2019-09-12</td>\n",
       "    </tr>\n",
       "    <tr>\n",
       "      <th>3</th>\n",
       "      <td>10025</td>\n",
       "      <td>Buddy</td>\n",
       "      <td>M</td>\n",
       "      <td>Unknown</td>\n",
       "      <td>Cockapoo</td>\n",
       "      <td>BLOND</td>\n",
       "      <td>WHITE</td>\n",
       "      <td>NaN</td>\n",
       "      <td>2008-04-01</td>\n",
       "      <td>Yes</td>\n",
       "      <td>No</td>\n",
       "      <td>Yes</td>\n",
       "      <td>2014-09-12 15:26:51.417</td>\n",
       "      <td>2014-09-12</td>\n",
       "      <td>2017-10-20</td>\n",
       "    </tr>\n",
       "    <tr>\n",
       "      <th>4</th>\n",
       "      <td>10013</td>\n",
       "      <td>Ali</td>\n",
       "      <td>M</td>\n",
       "      <td>Basenji</td>\n",
       "      <td>NaN</td>\n",
       "      <td>Black</td>\n",
       "      <td>NaN</td>\n",
       "      <td>NaN</td>\n",
       "      <td>2014-01-01</td>\n",
       "      <td>No</td>\n",
       "      <td>NaN</td>\n",
       "      <td>No</td>\n",
       "      <td>2014-09-12 15:43:17.707</td>\n",
       "      <td>2014-09-12</td>\n",
       "      <td>2019-09-12</td>\n",
       "    </tr>\n",
       "  </tbody>\n",
       "</table>\n",
       "</div>"
      ],
      "text/plain": [
       "   Owner Zip Code   Animal Name Animal Gender         Primary Breed  \\\n",
       "0           10024     BLUE MACK             M               Unknown   \n",
       "1           10461  Indie Zephir             M            Rottweiler   \n",
       "2           10013         Bilal             M  Australian Cattledog   \n",
       "3           10025         Buddy             M               Unknown   \n",
       "4           10013           Ali             M               Basenji   \n",
       "\n",
       "  Secondary Breed Animal Dominant Color Animal Secondary Color  \\\n",
       "0   AIREDALE TERR                 BROWN                  BLACK   \n",
       "1             NaN                 BLACK                    TAN   \n",
       "2             NaN                  Rust                    NaN   \n",
       "3        Cockapoo                 BLOND                  WHITE   \n",
       "4             NaN                 Black                    NaN   \n",
       "\n",
       "  Animal Third Color Animal Birth Spayed or Neut Guard or Trained Vaccinated  \\\n",
       "0                NaN   2007-11-01            Yes               No        Yes   \n",
       "1                NaN   2013-04-01             No               No        Yes   \n",
       "2                NaN   2014-09-01            Yes              NaN         No   \n",
       "3                NaN   2008-04-01            Yes               No        Yes   \n",
       "4                NaN   2014-01-01             No              NaN         No   \n",
       "\n",
       "         Application Date License Issued Date License Expired Date  \n",
       "0 2012-09-19 16:01:19.647          2015-09-19           2016-09-19  \n",
       "1 2013-09-20 11:41:36.647          2014-09-20           2018-09-20  \n",
       "2 2014-09-12 13:13:36.713          2014-09-12           2019-09-12  \n",
       "3 2014-09-12 15:26:51.417          2014-09-12           2017-10-20  \n",
       "4 2014-09-12 15:43:17.707          2014-09-12           2019-09-12  "
      ]
     },
     "execution_count": 20,
     "metadata": {},
     "output_type": "execute_result"
    }
   ],
   "source": [
    "df.head()"
   ]
  },
  {
   "cell_type": "markdown",
   "metadata": {},
   "source": [
    "## How many rows do you have in the data? What are the column types?\n",
    "\n",
    "If there are more than 30,000 rows in your dataset, go back and only read in the first 30,000.\n",
    "\n",
    "* *Tip: there's an option with `.read_csv` to only read in a certain number of rows*"
   ]
  },
  {
   "cell_type": "code",
   "execution_count": 21,
   "metadata": {},
   "outputs": [
    {
     "data": {
      "text/plain": [
       "(81937, 15)"
      ]
     },
     "execution_count": 21,
     "metadata": {},
     "output_type": "execute_result"
    }
   ],
   "source": [
    "df.shape"
   ]
  },
  {
   "cell_type": "code",
   "execution_count": 22,
   "metadata": {},
   "outputs": [
    {
     "data": {
      "text/plain": [
       "Owner Zip Code                     int64\n",
       "Animal Name                       object\n",
       "Animal Gender                     object\n",
       "Primary Breed                     object\n",
       "Secondary Breed                   object\n",
       "Animal Dominant Color             object\n",
       "Animal Secondary Color            object\n",
       "Animal Third Color                object\n",
       "Animal Birth              datetime64[ns]\n",
       "Spayed or Neut                    object\n",
       "Guard or Trained                  object\n",
       "Vaccinated                        object\n",
       "Application Date          datetime64[ns]\n",
       "License Issued Date       datetime64[ns]\n",
       "License Expired Date      datetime64[ns]\n",
       "dtype: object"
      ]
     },
     "execution_count": 22,
     "metadata": {},
     "output_type": "execute_result"
    }
   ],
   "source": [
    "df.dtypes"
   ]
  },
  {
   "cell_type": "markdown",
   "metadata": {},
   "source": [
    "## Describe the dataset in words. What is each row? List two column titles along with what each of those columns means.\n",
    "\n",
    "For example: “Each row is an animal in the zoo. `is_reptile` is whether the animal is a reptile or not”"
   ]
  },
  {
   "cell_type": "code",
   "execution_count": 23,
   "metadata": {},
   "outputs": [],
   "source": [
    "# Each row is an animal in the zoo."
   ]
  },
  {
   "cell_type": "code",
   "execution_count": 24,
   "metadata": {},
   "outputs": [],
   "source": [
    "# Spayed or Neut means: whether the ovaries, fallopian tubes and uterus of are removed from the animals"
   ]
  },
  {
   "cell_type": "code",
   "execution_count": 25,
   "metadata": {},
   "outputs": [],
   "source": [
    "# Guard or Trained means: whether the animals are trained by the zoo stuff"
   ]
  },
  {
   "cell_type": "markdown",
   "metadata": {},
   "source": [
    "# Looking at some dogs"
   ]
  },
  {
   "cell_type": "markdown",
   "metadata": {},
   "source": [
    "## What are the most popular (primary) breeds of dogs? Graph the top 10."
   ]
  },
  {
   "cell_type": "code",
   "execution_count": 26,
   "metadata": {},
   "outputs": [],
   "source": [
    "# First need to remove spaces in column's name\n",
    "\n",
    "df.columns = df.columns.str.replace(\" \",\"\")"
   ]
  },
  {
   "cell_type": "code",
   "execution_count": 27,
   "metadata": {},
   "outputs": [
    {
     "data": {
      "text/plain": [
       "Unknown                                 12894\n",
       "Yorkshire Terrier                        5133\n",
       "Shih Tzu                                 4727\n",
       "Chihuahua                                3924\n",
       "Maltese                                  2965\n",
       "Labrador Retriever                       2872\n",
       "American Pit Bull Terrier/Pit Bull       2153\n",
       "American Pit Bull Mix / Pit Bull Mix     2029\n",
       "Labrador Retriever Crossbreed            1864\n",
       "Beagle                                   1438\n",
       "Name: PrimaryBreed, dtype: int64"
      ]
     },
     "execution_count": 27,
     "metadata": {},
     "output_type": "execute_result"
    }
   ],
   "source": [
    "df.PrimaryBreed.value_counts().head(10)"
   ]
  },
  {
   "cell_type": "code",
   "execution_count": 28,
   "metadata": {},
   "outputs": [
    {
     "data": {
      "text/plain": [
       "<AxesSubplot:>"
      ]
     },
     "execution_count": 28,
     "metadata": {},
     "output_type": "execute_result"
    },
    {
     "data": {
      "image/png": "[encoded data removed]",
      "text/plain": [
       "<Figure size 432x288 with 1 Axes>"
      ]
     },
     "metadata": {
      "needs_background": "light"
     },
     "output_type": "display_data"
    }
   ],
   "source": [
    "df.PrimaryBreed.value_counts().head(10).plot()"
   ]
  },
  {
   "cell_type": "markdown",
   "metadata": {},
   "source": [
    "## \"Unknown\" is a terrible breed! Graph the top 10 breeds that are NOT Unknown\n",
    "\n",
    "* *Tip: Maybe you want to go back to your `.read_csv` and use `na_values=`? Maybe not? Up to you!*"
   ]
  },
  {
   "cell_type": "code",
   "execution_count": 29,
   "metadata": {},
   "outputs": [],
   "source": [
    "df = pd.read_excel(\"NYC_Dog_Licenses_Current_as_of_4-28-2016.xlsx\", na_values= [\"Unknown\"])\n",
    "df.columns = df.columns.str.replace(\" \",\"\")"
   ]
  },
  {
   "cell_type": "code",
   "execution_count": 30,
   "metadata": {},
   "outputs": [
    {
     "data": {
      "text/plain": [
       "<AxesSubplot:>"
      ]
     },
     "execution_count": 30,
     "metadata": {},
     "output_type": "execute_result"
    },
    {
     "data": {
      "image/png": "[encoded data removed]",
      "text/plain": [
       "<Figure size 432x288 with 1 Axes>"
      ]
     },
     "metadata": {
      "needs_background": "light"
     },
     "output_type": "display_data"
    }
   ],
   "source": [
    "df.PrimaryBreed.value_counts().head(10).plot()"
   ]
  },
  {
   "cell_type": "markdown",
   "metadata": {},
   "source": [
    "## What are the most popular dog names?"
   ]
  },
  {
   "cell_type": "code",
   "execution_count": 31,
   "metadata": {},
   "outputs": [
    {
     "data": {
      "text/plain": [
       "Bella                  527\n",
       "Max                    515\n",
       "Charlie                403\n",
       "Lola                   387\n",
       "Rocky                  354\n",
       "                      ... \n",
       "Max P.P.                 1\n",
       "Nyxie Maldonado          1\n",
       "ROSEBUD                  1\n",
       "Lucas Fasitta Falco      1\n",
       "Cheeseburger             1\n",
       "Name: AnimalName, Length: 29675, dtype: int64"
      ]
     },
     "execution_count": 31,
     "metadata": {},
     "output_type": "execute_result"
    }
   ],
   "source": [
    "df = pd.read_excel(\"NYC_Dog_Licenses_Current_as_of_4-28-2016.xlsx\", na_values= [\"Unknown\",\"UNKNOWN\"])\n",
    "df.columns = df.columns.str.replace(\" \",\"\")\n",
    "df.AnimalName.value_counts()"
   ]
  },
  {
   "cell_type": "markdown",
   "metadata": {},
   "source": [
    "## Do any dogs have your name? How many dogs are named \"Max,\" and how many are named \"Maxwell\"?"
   ]
  },
  {
   "cell_type": "code",
   "execution_count": 32,
   "metadata": {},
   "outputs": [
    {
     "data": {
      "text/plain": [
       "Max                 515\n",
       "Maximus              63\n",
       "Maxwell              30\n",
       "Maxine               20\n",
       "Maxx                 16\n",
       "                   ... \n",
       "Max Yauri             1\n",
       "King Maximillion      1\n",
       "Max Mezon             1\n",
       "Max Datri             1\n",
       "Max Blue              1\n",
       "Name: AnimalName, Length: 192, dtype: int64"
      ]
     },
     "execution_count": 32,
     "metadata": {},
     "output_type": "execute_result"
    }
   ],
   "source": [
    "df[df.AnimalName.str.contains(\"Max\",na=False)].AnimalName.value_counts()\n",
    "# 515 dogs named Max\n",
    "# 30 dogs named Maxwell"
   ]
  },
  {
   "cell_type": "markdown",
   "metadata": {},
   "source": [
    "## What percentage of dogs are guard dogs?"
   ]
  },
  {
   "cell_type": "code",
   "execution_count": 33,
   "metadata": {},
   "outputs": [
    {
     "data": {
      "text/plain": [
       "No     0.998971\n",
       "Yes    0.001029\n",
       "Name: GuardorTrained, dtype: float64"
      ]
     },
     "execution_count": 33,
     "metadata": {},
     "output_type": "execute_result"
    }
   ],
   "source": [
    "df.GuardorTrained.value_counts(normalize=True)"
   ]
  },
  {
   "cell_type": "markdown",
   "metadata": {},
   "source": [
    "## What are the actual numbers?"
   ]
  },
  {
   "cell_type": "code",
   "execution_count": 34,
   "metadata": {},
   "outputs": [
    {
     "data": {
      "text/plain": [
       "No     49525\n",
       "Yes       51\n",
       "Name: GuardorTrained, dtype: int64"
      ]
     },
     "execution_count": 34,
     "metadata": {},
     "output_type": "execute_result"
    }
   ],
   "source": [
    "df.GuardorTrained.value_counts()\n",
    "# only 51 dogs are trained/guard dogs."
   ]
  },
  {
   "cell_type": "markdown",
   "metadata": {},
   "source": [
    "## Wait... if you add that up, is it the same as your number of rows? Where are the other dogs???? How can we find them??????\n",
    "\n",
    "Use your `.head()` to think about it, then you'll do some magic with `.value_counts()`. Think about missing data!"
   ]
  },
  {
   "cell_type": "code",
   "execution_count": 35,
   "metadata": {},
   "outputs": [
    {
     "data": {
      "text/plain": [
       "No     49525\n",
       "Yes       51\n",
       "Name: GuardorTrained, dtype: int64"
      ]
     },
     "execution_count": 35,
     "metadata": {},
     "output_type": "execute_result"
    }
   ],
   "source": [
    "df.GuardorTrained.value_counts()\n",
    "# it might be because the computer filter \"NaN\" & empty blank to read?"
   ]
  },
  {
   "cell_type": "markdown",
   "metadata": {},
   "source": [
    "## Maybe fill in all of those empty \"Guard or Trained\" columns with \"No\"? Or as `NaN`? \n",
    "\n",
    "Can we make an assumption either way? Then check your result with another `.value_counts()`"
   ]
  },
  {
   "cell_type": "code",
   "execution_count": 36,
   "metadata": {},
   "outputs": [
    {
     "data": {
      "text/plain": [
       "No     49525\n",
       "NaN    32361\n",
       "Yes       51\n",
       "Name: GuardorTrained, dtype: int64"
      ]
     },
     "execution_count": 36,
     "metadata": {},
     "output_type": "execute_result"
    }
   ],
   "source": [
    "# dropna=True meaning Don't include counts of NaN!!\n",
    "df.GuardorTrained.value_counts(dropna=False)"
   ]
  },
  {
   "cell_type": "markdown",
   "metadata": {},
   "source": [
    "## What are the top dog breeds for guard dogs? "
   ]
  },
  {
   "cell_type": "code",
   "execution_count": 37,
   "metadata": {},
   "outputs": [
    {
     "data": {
      "text/plain": [
       "German Shepherd Dog                     4\n",
       "Chihuahua                               3\n",
       "Labrador Retriever                      3\n",
       "Rottweiler                              3\n",
       "American Pit Bull Mix / Pit Bull Mix    3\n",
       "Name: PrimaryBreed, dtype: int64"
      ]
     },
     "execution_count": 37,
     "metadata": {},
     "output_type": "execute_result"
    }
   ],
   "source": [
    "df[df.GuardorTrained == \"Yes\"].PrimaryBreed.value_counts().head()\n",
    "# German Shepherd Dog is the top dog breed for guard dogs"
   ]
  },
  {
   "cell_type": "markdown",
   "metadata": {},
   "source": [
    "## Create a new column called \"year\" that is the dog's year of birth\n",
    "\n",
    "The `Animal Birth` column is a datetime, so you can get the year out of it with the code `df['Animal Birth'].apply(lambda birth: birth.year)`."
   ]
  },
  {
   "cell_type": "code",
   "execution_count": 38,
   "metadata": {},
   "outputs": [
    {
     "data": {
      "text/plain": [
       "0        2007\n",
       "1        2013\n",
       "2        2014\n",
       "3        2008\n",
       "4        2014\n",
       "         ... \n",
       "81932    2013\n",
       "81933    2015\n",
       "81934    2009\n",
       "81935    2006\n",
       "81936    2000\n",
       "Name: AnimalBirth, Length: 81937, dtype: int64"
      ]
     },
     "execution_count": 38,
     "metadata": {},
     "output_type": "execute_result"
    }
   ],
   "source": [
    "df['AnimalBirth'].apply(lambda birth: birth.year)"
   ]
  },
  {
   "cell_type": "markdown",
   "metadata": {},
   "source": [
    "## Which neighborhood does each dog live in?\n",
    "\n",
    "You also have a (terrible) list of NYC neighborhoods in `zipcodes-neighborhoods.csv`. Join these two datasets together, so we know what neighborhood each dog lives in. **Be sure to not read it in as `df`, or else you'll overwrite your dogs dataframe.**"
   ]
  },
  {
   "cell_type": "code",
   "execution_count": 39,
   "metadata": {},
   "outputs": [
    {
     "data": {
      "text/html": [
       "<div>\n",
       "<style scoped>\n",
       "    .dataframe tbody tr th:only-of-type {\n",
       "        vertical-align: middle;\n",
       "    }\n",
       "\n",
       "    .dataframe tbody tr th {\n",
       "        vertical-align: top;\n",
       "    }\n",
       "\n",
       "    .dataframe thead th {\n",
       "        text-align: right;\n",
       "    }\n",
       "</style>\n",
       "<table border=\"1\" class=\"dataframe\">\n",
       "  <thead>\n",
       "    <tr style=\"text-align: right;\">\n",
       "      <th></th>\n",
       "      <th>neighborhood</th>\n",
       "      <th>zip</th>\n",
       "      <th>borough</th>\n",
       "    </tr>\n",
       "  </thead>\n",
       "  <tbody>\n",
       "    <tr>\n",
       "      <th>0</th>\n",
       "      <td>Central Bronx</td>\n",
       "      <td>10453</td>\n",
       "      <td>Bronx</td>\n",
       "    </tr>\n",
       "    <tr>\n",
       "      <th>1</th>\n",
       "      <td>Central Bronx</td>\n",
       "      <td>10457</td>\n",
       "      <td>Bronx</td>\n",
       "    </tr>\n",
       "    <tr>\n",
       "      <th>2</th>\n",
       "      <td>Central Bronx</td>\n",
       "      <td>10460</td>\n",
       "      <td>Bronx</td>\n",
       "    </tr>\n",
       "    <tr>\n",
       "      <th>3</th>\n",
       "      <td>Bronx Park and Fordham</td>\n",
       "      <td>10458</td>\n",
       "      <td>Bronx</td>\n",
       "    </tr>\n",
       "    <tr>\n",
       "      <th>4</th>\n",
       "      <td>Bronx Park and Fordham</td>\n",
       "      <td>10467</td>\n",
       "      <td>Bronx</td>\n",
       "    </tr>\n",
       "    <tr>\n",
       "      <th>...</th>\n",
       "      <td>...</td>\n",
       "      <td>...</td>\n",
       "      <td>...</td>\n",
       "    </tr>\n",
       "    <tr>\n",
       "      <th>173</th>\n",
       "      <td>South Shore</td>\n",
       "      <td>10312</td>\n",
       "      <td>Staten Island</td>\n",
       "    </tr>\n",
       "    <tr>\n",
       "      <th>174</th>\n",
       "      <td>Stapleton and St. George</td>\n",
       "      <td>10301</td>\n",
       "      <td>Staten Island</td>\n",
       "    </tr>\n",
       "    <tr>\n",
       "      <th>175</th>\n",
       "      <td>Stapleton and St. George</td>\n",
       "      <td>10304</td>\n",
       "      <td>Staten Island</td>\n",
       "    </tr>\n",
       "    <tr>\n",
       "      <th>176</th>\n",
       "      <td>Stapleton and St. George</td>\n",
       "      <td>10305</td>\n",
       "      <td>Staten Island</td>\n",
       "    </tr>\n",
       "    <tr>\n",
       "      <th>177</th>\n",
       "      <td>Mid-Island</td>\n",
       "      <td>10314</td>\n",
       "      <td>Staten Island</td>\n",
       "    </tr>\n",
       "  </tbody>\n",
       "</table>\n",
       "<p>178 rows × 3 columns</p>\n",
       "</div>"
      ],
      "text/plain": [
       "                 neighborhood    zip        borough\n",
       "0               Central Bronx  10453          Bronx\n",
       "1               Central Bronx  10457          Bronx\n",
       "2               Central Bronx  10460          Bronx\n",
       "3      Bronx Park and Fordham  10458          Bronx\n",
       "4      Bronx Park and Fordham  10467          Bronx\n",
       "..                        ...    ...            ...\n",
       "173               South Shore  10312  Staten Island\n",
       "174  Stapleton and St. George  10301  Staten Island\n",
       "175  Stapleton and St. George  10304  Staten Island\n",
       "176  Stapleton and St. George  10305  Staten Island\n",
       "177                Mid-Island  10314  Staten Island\n",
       "\n",
       "[178 rows x 3 columns]"
      ]
     },
     "execution_count": 39,
     "metadata": {},
     "output_type": "execute_result"
    }
   ],
   "source": [
    "zn = pd.read_csv(\"zipcodes-neighborhoods.csv\")\n",
    "zn"
   ]
  },
  {
   "cell_type": "code",
   "execution_count": 40,
   "metadata": {},
   "outputs": [
    {
     "data": {
      "text/html": [
       "<div>\n",
       "<style scoped>\n",
       "    .dataframe tbody tr th:only-of-type {\n",
       "        vertical-align: middle;\n",
       "    }\n",
       "\n",
       "    .dataframe tbody tr th {\n",
       "        vertical-align: top;\n",
       "    }\n",
       "\n",
       "    .dataframe thead th {\n",
       "        text-align: right;\n",
       "    }\n",
       "</style>\n",
       "<table border=\"1\" class=\"dataframe\">\n",
       "  <thead>\n",
       "    <tr style=\"text-align: right;\">\n",
       "      <th></th>\n",
       "      <th>OwnerZipCode</th>\n",
       "      <th>AnimalName</th>\n",
       "      <th>AnimalGender</th>\n",
       "      <th>PrimaryBreed</th>\n",
       "      <th>SecondaryBreed</th>\n",
       "      <th>AnimalDominantColor</th>\n",
       "      <th>AnimalSecondaryColor</th>\n",
       "      <th>AnimalThirdColor</th>\n",
       "      <th>AnimalBirth</th>\n",
       "      <th>SpayedorNeut</th>\n",
       "      <th>GuardorTrained</th>\n",
       "      <th>Vaccinated</th>\n",
       "      <th>ApplicationDate</th>\n",
       "      <th>LicenseIssuedDate</th>\n",
       "      <th>LicenseExpiredDate</th>\n",
       "      <th>neighborhood</th>\n",
       "      <th>zip</th>\n",
       "      <th>borough</th>\n",
       "    </tr>\n",
       "  </thead>\n",
       "  <tbody>\n",
       "    <tr>\n",
       "      <th>0</th>\n",
       "      <td>10024</td>\n",
       "      <td>BLUE MACK</td>\n",
       "      <td>M</td>\n",
       "      <td>NaN</td>\n",
       "      <td>AIREDALE TERR</td>\n",
       "      <td>BROWN</td>\n",
       "      <td>BLACK</td>\n",
       "      <td>NaN</td>\n",
       "      <td>2007-11-01</td>\n",
       "      <td>Yes</td>\n",
       "      <td>No</td>\n",
       "      <td>Yes</td>\n",
       "      <td>2012-09-19 16:01:19.647</td>\n",
       "      <td>2015-09-19</td>\n",
       "      <td>2016-09-19</td>\n",
       "      <td>Upper West Side</td>\n",
       "      <td>10024</td>\n",
       "      <td>Manhattan</td>\n",
       "    </tr>\n",
       "    <tr>\n",
       "      <th>1</th>\n",
       "      <td>10024</td>\n",
       "      <td>Louie</td>\n",
       "      <td>M</td>\n",
       "      <td>NaN</td>\n",
       "      <td>Coonhound</td>\n",
       "      <td>Black</td>\n",
       "      <td>White</td>\n",
       "      <td>Brown</td>\n",
       "      <td>2008-05-01</td>\n",
       "      <td>Yes</td>\n",
       "      <td>No</td>\n",
       "      <td>Yes</td>\n",
       "      <td>2014-09-15 16:36:20.200</td>\n",
       "      <td>2014-09-15</td>\n",
       "      <td>2017-09-03</td>\n",
       "      <td>Upper West Side</td>\n",
       "      <td>10024</td>\n",
       "      <td>Manhattan</td>\n",
       "    </tr>\n",
       "    <tr>\n",
       "      <th>2</th>\n",
       "      <td>10024</td>\n",
       "      <td>Tosha</td>\n",
       "      <td>F</td>\n",
       "      <td>Collie, Smooth Coat</td>\n",
       "      <td>NaN</td>\n",
       "      <td>BLUE MERLE</td>\n",
       "      <td>WHITE</td>\n",
       "      <td>TAN</td>\n",
       "      <td>2011-12-01</td>\n",
       "      <td>Yes</td>\n",
       "      <td>No</td>\n",
       "      <td>Yes</td>\n",
       "      <td>2014-09-16 10:22:07.867</td>\n",
       "      <td>2014-09-16</td>\n",
       "      <td>2017-10-11</td>\n",
       "      <td>Upper West Side</td>\n",
       "      <td>10024</td>\n",
       "      <td>Manhattan</td>\n",
       "    </tr>\n",
       "    <tr>\n",
       "      <th>3</th>\n",
       "      <td>10024</td>\n",
       "      <td>Poppett</td>\n",
       "      <td>F</td>\n",
       "      <td>Dachshund, Long Haired Miniature</td>\n",
       "      <td>NaN</td>\n",
       "      <td>Black</td>\n",
       "      <td>Brown</td>\n",
       "      <td>Silver</td>\n",
       "      <td>2011-02-01</td>\n",
       "      <td>Yes</td>\n",
       "      <td>NaN</td>\n",
       "      <td>Yes</td>\n",
       "      <td>2014-09-18 16:25:57.323</td>\n",
       "      <td>2014-09-18</td>\n",
       "      <td>2019-09-18</td>\n",
       "      <td>Upper West Side</td>\n",
       "      <td>10024</td>\n",
       "      <td>Manhattan</td>\n",
       "    </tr>\n",
       "    <tr>\n",
       "      <th>4</th>\n",
       "      <td>10024</td>\n",
       "      <td>Harlen</td>\n",
       "      <td>M</td>\n",
       "      <td>NaN</td>\n",
       "      <td>Plott Hound</td>\n",
       "      <td>BLACK</td>\n",
       "      <td>TAN</td>\n",
       "      <td>BROWN</td>\n",
       "      <td>2007-05-01</td>\n",
       "      <td>Yes</td>\n",
       "      <td>No</td>\n",
       "      <td>Yes</td>\n",
       "      <td>2014-09-25 17:11:20.713</td>\n",
       "      <td>2014-09-25</td>\n",
       "      <td>2016-08-20</td>\n",
       "      <td>Upper West Side</td>\n",
       "      <td>10024</td>\n",
       "      <td>Manhattan</td>\n",
       "    </tr>\n",
       "    <tr>\n",
       "      <th>...</th>\n",
       "      <td>...</td>\n",
       "      <td>...</td>\n",
       "      <td>...</td>\n",
       "      <td>...</td>\n",
       "      <td>...</td>\n",
       "      <td>...</td>\n",
       "      <td>...</td>\n",
       "      <td>...</td>\n",
       "      <td>...</td>\n",
       "      <td>...</td>\n",
       "      <td>...</td>\n",
       "      <td>...</td>\n",
       "      <td>...</td>\n",
       "      <td>...</td>\n",
       "      <td>...</td>\n",
       "      <td>...</td>\n",
       "      <td>...</td>\n",
       "      <td>...</td>\n",
       "    </tr>\n",
       "    <tr>\n",
       "      <th>80854</th>\n",
       "      <td>11005</td>\n",
       "      <td>Bichon</td>\n",
       "      <td>F</td>\n",
       "      <td>Bichon Frise</td>\n",
       "      <td>NaN</td>\n",
       "      <td>White</td>\n",
       "      <td>NaN</td>\n",
       "      <td>NaN</td>\n",
       "      <td>2015-05-01</td>\n",
       "      <td>No</td>\n",
       "      <td>NaN</td>\n",
       "      <td>No</td>\n",
       "      <td>2015-08-06 18:46:01.953</td>\n",
       "      <td>2015-08-06</td>\n",
       "      <td>2016-08-06</td>\n",
       "      <td>Southeast Queens</td>\n",
       "      <td>11005</td>\n",
       "      <td>Queens</td>\n",
       "    </tr>\n",
       "    <tr>\n",
       "      <th>80855</th>\n",
       "      <td>10020</td>\n",
       "      <td>Fantastic</td>\n",
       "      <td>F</td>\n",
       "      <td>NaN</td>\n",
       "      <td>Whippet/Jack Russell Mix</td>\n",
       "      <td>WHITE</td>\n",
       "      <td>NaN</td>\n",
       "      <td>NaN</td>\n",
       "      <td>2012-01-01</td>\n",
       "      <td>Yes</td>\n",
       "      <td>No</td>\n",
       "      <td>No</td>\n",
       "      <td>2015-12-01 15:07:00.293</td>\n",
       "      <td>2015-12-01</td>\n",
       "      <td>2016-12-26</td>\n",
       "      <td>Chelsea and Clinton</td>\n",
       "      <td>10020</td>\n",
       "      <td>Manhattan</td>\n",
       "    </tr>\n",
       "    <tr>\n",
       "      <th>80856</th>\n",
       "      <td>10020</td>\n",
       "      <td>Dexter</td>\n",
       "      <td>M</td>\n",
       "      <td>Golden Retriever</td>\n",
       "      <td>NaN</td>\n",
       "      <td>GOLD</td>\n",
       "      <td>WHITE</td>\n",
       "      <td>NaN</td>\n",
       "      <td>2010-08-01</td>\n",
       "      <td>Yes</td>\n",
       "      <td>No</td>\n",
       "      <td>Yes</td>\n",
       "      <td>2016-02-26 16:10:43.557</td>\n",
       "      <td>2016-02-26</td>\n",
       "      <td>2017-04-25</td>\n",
       "      <td>Chelsea and Clinton</td>\n",
       "      <td>10020</td>\n",
       "      <td>Manhattan</td>\n",
       "    </tr>\n",
       "    <tr>\n",
       "      <th>80857</th>\n",
       "      <td>10020</td>\n",
       "      <td>ELLA</td>\n",
       "      <td>F</td>\n",
       "      <td>Havanese</td>\n",
       "      <td>NaN</td>\n",
       "      <td>Black</td>\n",
       "      <td>White</td>\n",
       "      <td>NaN</td>\n",
       "      <td>2015-02-01</td>\n",
       "      <td>Yes</td>\n",
       "      <td>NaN</td>\n",
       "      <td>Yes</td>\n",
       "      <td>2016-03-22 15:31:09.393</td>\n",
       "      <td>2016-03-22</td>\n",
       "      <td>2017-05-08</td>\n",
       "      <td>Chelsea and Clinton</td>\n",
       "      <td>10020</td>\n",
       "      <td>Manhattan</td>\n",
       "    </tr>\n",
       "    <tr>\n",
       "      <th>80858</th>\n",
       "      <td>10020</td>\n",
       "      <td>NICOLETTE</td>\n",
       "      <td>F</td>\n",
       "      <td>NaN</td>\n",
       "      <td>COCK-A-POO</td>\n",
       "      <td>TAN</td>\n",
       "      <td>NaN</td>\n",
       "      <td>NaN</td>\n",
       "      <td>2006-01-01</td>\n",
       "      <td>Yes</td>\n",
       "      <td>No</td>\n",
       "      <td>Yes</td>\n",
       "      <td>2016-03-29 10:40:46.867</td>\n",
       "      <td>2016-03-29</td>\n",
       "      <td>2017-05-30</td>\n",
       "      <td>Chelsea and Clinton</td>\n",
       "      <td>10020</td>\n",
       "      <td>Manhattan</td>\n",
       "    </tr>\n",
       "  </tbody>\n",
       "</table>\n",
       "<p>80859 rows × 18 columns</p>\n",
       "</div>"
      ],
      "text/plain": [
       "       OwnerZipCode  AnimalName AnimalGender  \\\n",
       "0             10024   BLUE MACK            M   \n",
       "1             10024       Louie            M   \n",
       "2             10024       Tosha            F   \n",
       "3             10024     Poppett            F   \n",
       "4             10024      Harlen            M   \n",
       "...             ...         ...          ...   \n",
       "80854         11005      Bichon            F   \n",
       "80855         10020   Fantastic            F   \n",
       "80856         10020      Dexter            M   \n",
       "80857         10020        ELLA            F   \n",
       "80858         10020  NICOLETTE             F   \n",
       "\n",
       "                           PrimaryBreed            SecondaryBreed  \\\n",
       "0                                   NaN             AIREDALE TERR   \n",
       "1                                   NaN                 Coonhound   \n",
       "2                   Collie, Smooth Coat                       NaN   \n",
       "3      Dachshund, Long Haired Miniature                       NaN   \n",
       "4                                   NaN               Plott Hound   \n",
       "...                                 ...                       ...   \n",
       "80854                      Bichon Frise                       NaN   \n",
       "80855                               NaN  Whippet/Jack Russell Mix   \n",
       "80856                  Golden Retriever                       NaN   \n",
       "80857                          Havanese                       NaN   \n",
       "80858                               NaN           COCK-A-POO        \n",
       "\n",
       "      AnimalDominantColor AnimalSecondaryColor AnimalThirdColor AnimalBirth  \\\n",
       "0                   BROWN                BLACK              NaN  2007-11-01   \n",
       "1                   Black                White            Brown  2008-05-01   \n",
       "2              BLUE MERLE                WHITE              TAN  2011-12-01   \n",
       "3                   Black                Brown           Silver  2011-02-01   \n",
       "4                   BLACK                  TAN            BROWN  2007-05-01   \n",
       "...                   ...                  ...              ...         ...   \n",
       "80854               White                  NaN              NaN  2015-05-01   \n",
       "80855               WHITE                  NaN              NaN  2012-01-01   \n",
       "80856                GOLD                WHITE              NaN  2010-08-01   \n",
       "80857               Black                White              NaN  2015-02-01   \n",
       "80858                 TAN                  NaN              NaN  2006-01-01   \n",
       "\n",
       "      SpayedorNeut GuardorTrained Vaccinated         ApplicationDate  \\\n",
       "0              Yes             No        Yes 2012-09-19 16:01:19.647   \n",
       "1              Yes             No        Yes 2014-09-15 16:36:20.200   \n",
       "2              Yes             No        Yes 2014-09-16 10:22:07.867   \n",
       "3              Yes            NaN        Yes 2014-09-18 16:25:57.323   \n",
       "4              Yes             No        Yes 2014-09-25 17:11:20.713   \n",
       "...            ...            ...        ...                     ...   \n",
       "80854           No            NaN         No 2015-08-06 18:46:01.953   \n",
       "80855          Yes             No         No 2015-12-01 15:07:00.293   \n",
       "80856          Yes             No        Yes 2016-02-26 16:10:43.557   \n",
       "80857          Yes            NaN        Yes 2016-03-22 15:31:09.393   \n",
       "80858          Yes             No        Yes 2016-03-29 10:40:46.867   \n",
       "\n",
       "      LicenseIssuedDate LicenseExpiredDate         neighborhood    zip  \\\n",
       "0            2015-09-19         2016-09-19      Upper West Side  10024   \n",
       "1            2014-09-15         2017-09-03      Upper West Side  10024   \n",
       "2            2014-09-16         2017-10-11      Upper West Side  10024   \n",
       "3            2014-09-18         2019-09-18      Upper West Side  10024   \n",
       "4            2014-09-25         2016-08-20      Upper West Side  10024   \n",
       "...                 ...                ...                  ...    ...   \n",
       "80854        2015-08-06         2016-08-06     Southeast Queens  11005   \n",
       "80855        2015-12-01         2016-12-26  Chelsea and Clinton  10020   \n",
       "80856        2016-02-26         2017-04-25  Chelsea and Clinton  10020   \n",
       "80857        2016-03-22         2017-05-08  Chelsea and Clinton  10020   \n",
       "80858        2016-03-29         2017-05-30  Chelsea and Clinton  10020   \n",
       "\n",
       "         borough  \n",
       "0      Manhattan  \n",
       "1      Manhattan  \n",
       "2      Manhattan  \n",
       "3      Manhattan  \n",
       "4      Manhattan  \n",
       "...          ...  \n",
       "80854     Queens  \n",
       "80855  Manhattan  \n",
       "80856  Manhattan  \n",
       "80857  Manhattan  \n",
       "80858  Manhattan  \n",
       "\n",
       "[80859 rows x 18 columns]"
      ]
     },
     "execution_count": 40,
     "metadata": {},
     "output_type": "execute_result"
    }
   ],
   "source": [
    "# zn: the dataframe you're about to merge\n",
    "# left_on: the index column name from left dataframe (your original dataframe)\n",
    "# right_on: the index column name from left dataframe (the dataframe you're about to merge)\n",
    "merged = df.merge(zn, left_on='OwnerZipCode', right_on='zip')\n",
    "merged"
   ]
  },
  {
   "cell_type": "markdown",
   "metadata": {},
   "source": [
    "## What is the most common dog breed in each of the neighborhoods of NYC?\n",
    "\n",
    "* *Tip: There are a few ways to do this, and some are awful (see the \"top 5 breeds in each borough\" question below).*"
   ]
  },
  {
   "cell_type": "code",
   "execution_count": 79,
   "metadata": {},
   "outputs": [
    {
     "data": {
      "text/plain": [
       "neighborhood                   neighborhood                   PrimaryBreed                      \n",
       "Borough Park                   Borough Park                   Yorkshire Terrier                     115\n",
       "Bronx Park and Fordham         Bronx Park and Fordham         Yorkshire Terrier                      88\n",
       "Bushwick and Williamsburg      Bushwick and Williamsburg      Yorkshire Terrier                     135\n",
       "Canarsie and Flatlands         Canarsie and Flatlands         Yorkshire Terrier                     137\n",
       "Central Bronx                  Central Bronx                  Yorkshire Terrier                      82\n",
       "Central Brooklyn               Central Brooklyn               Shih Tzu                              113\n",
       "Central Harlem                 Central Harlem                 Yorkshire Terrier                     132\n",
       "Central Queens                 Central Queens                 Yorkshire Terrier                      67\n",
       "Chelsea and Clinton            Chelsea and Clinton            Chihuahua                             210\n",
       "East Harlem                    East Harlem                    Yorkshire Terrier                     129\n",
       "East New York and New Lots     East New York and New Lots     American Pit Bull Terrier/Pit Bull     87\n",
       "Flatbush                       Flatbush                       Shih Tzu                               78\n",
       "Gramercy Park and Murray Hill  Gramercy Park and Murray Hill  Yorkshire Terrier                     142\n",
       "Greenpoint                     Greenpoint                     Chihuahua                              83\n",
       "Greenwich Village and Soho     Greenwich Village and Soho     Labrador Retriever                    126\n",
       "High Bridge and Morrisania     High Bridge and Morrisania     Yorkshire Terrier                      90\n",
       "Hunts Point and Mott Haven     Hunts Point and Mott Haven     Yorkshire Terrier                      95\n",
       "Inwood and Washington Heights  Inwood and Washington Heights  Yorkshire Terrier                     138\n",
       "Jamaica                        Jamaica                        Yorkshire Terrier                     102\n",
       "Kingsbridge and Riverdale      Kingsbridge and Riverdale      Yorkshire Terrier                      69\n",
       "Lower East Side                Lower East Side                Yorkshire Terrier                     180\n",
       "Lower Manhattan                Lower Manhattan                Shih Tzu                               58\n",
       "Mid-Island                     Mid-Island                     Yorkshire Terrier                     100\n",
       "North Queens                   North Queens                   Maltese                               146\n",
       "Northeast Bronx                Northeast Bronx                Yorkshire Terrier                      94\n",
       "Northeast Queens               Northeast Queens               Maltese                                62\n",
       "Northwest Brooklyn             Northwest Brooklyn             Labrador Retriever                    194\n",
       "Northwest Queens               Northwest Queens               Chihuahua                             136\n",
       "Port Richmond                  Port Richmond                  Yorkshire Terrier                      62\n",
       "Rockaways                      Rockaways                      Shih Tzu                               64\n",
       "South Shore                    South Shore                    Shih Tzu                              267\n",
       "Southeast Bronx                Southeast Bronx                Shih Tzu                              245\n",
       "Southeast Queens               Southeast Queens               Yorkshire Terrier                      77\n",
       "Southern Brooklyn              Southern Brooklyn              Shih Tzu                              201\n",
       "Southwest Brooklyn             Southwest Brooklyn             Shih Tzu                              181\n",
       "Southwest Queens               Southwest Queens               Yorkshire Terrier                     151\n",
       "Stapleton and St. George       Stapleton and St. George       Yorkshire Terrier                     100\n",
       "Sunset Park                    Sunset Park                    Yorkshire Terrier                      72\n",
       "Upper East Side                Upper East Side                Shih Tzu                              246\n",
       "Upper West Side                Upper West Side                Labrador Retriever                    295\n",
       "West Central Queens            West Central Queens            Yorkshire Terrier                     184\n",
       "West Queens                    West Queens                    Shih Tzu                              218\n",
       "Name: PrimaryBreed, dtype: int64"
      ]
     },
     "execution_count": 79,
     "metadata": {},
     "output_type": "execute_result"
    }
   ],
   "source": [
    "merged.groupby(by=\"neighborhood\").PrimaryBreed.value_counts().groupby(level=0).nlargest(1)"
   ]
  },
  {
   "cell_type": "markdown",
   "metadata": {},
   "source": [
    "## What breed of dogs are the least likely to be spayed? Male or female?\n",
    "\n",
    "* *Tip: This has a handful of interpretations, and some are easier than others. Feel free to skip it if you can't figure it out to your satisfaction.*"
   ]
  },
  {
   "cell_type": "code",
   "execution_count": 191,
   "metadata": {},
   "outputs": [
    {
     "data": {
      "text/plain": [
       "AnimalGender  PrimaryBreed               \n",
       "F             Yorkshire Terrier              637\n",
       "              Shih Tzu                       416\n",
       "              Chihuahua                      313\n",
       "              Maltese                        301\n",
       "              Pomeranian                     173\n",
       "                                            ... \n",
       "M             Spinone Italiano                 1\n",
       "              Standard Schnauzer               1\n",
       "              Thai Ridgeback                   1\n",
       "              Treeing Tennessee Brindle        1\n",
       "              Wirehaired Pointing Griffon      1\n",
       "Name: PrimaryBreed, Length: 413, dtype: int64"
      ]
     },
     "execution_count": 191,
     "metadata": {},
     "output_type": "execute_result"
    }
   ],
   "source": [
    "# method 1 (but can't really see the male dogs data here...)\n",
    "df[df.SpayedorNeut == \"No\"].groupby(by=\"AnimalGender\").PrimaryBreed.value_counts()"
   ]
  },
  {
   "cell_type": "code",
   "execution_count": 192,
   "metadata": {},
   "outputs": [
    {
     "data": {
      "text/plain": [
       "Yorkshire Terrier             637\n",
       "Shih Tzu                      416\n",
       "Chihuahua                     313\n",
       "Maltese                       301\n",
       "Pomeranian                    173\n",
       "                             ... \n",
       "Entlebucher Mountain Dog        1\n",
       "German Shorthaired Pointer      1\n",
       "Jindo                           1\n",
       "Canaan Dog                      1\n",
       "Spinone Italiano                1\n",
       "Name: PrimaryBreed, Length: 196, dtype: int64"
      ]
     },
     "execution_count": 192,
     "metadata": {},
     "output_type": "execute_result"
    }
   ],
   "source": [
    "# method 2 (create 2 varibles!)\n",
    "# Female dogs that are least likely to be spayed ---> Yorkshire Terrier\n",
    "df.AnimalGender == \"F\"\n",
    "df_female = df[df.AnimalGender == \"F\"]\n",
    "df_female[df_female.SpayedorNeut == \"No\"].PrimaryBreed.value_counts()"
   ]
  },
  {
   "cell_type": "code",
   "execution_count": 193,
   "metadata": {},
   "outputs": [
    {
     "data": {
      "text/plain": [
       "Yorkshire Terrier                     925\n",
       "Shih Tzu                              711\n",
       "Maltese                               473\n",
       "Chihuahua                             432\n",
       "American Pit Bull Terrier/Pit Bull    354\n",
       "                                     ... \n",
       "Clumber Spaniel                         1\n",
       "Glen of Imaal Terrier                   1\n",
       "Boerboel                                1\n",
       "Bouvier Des Flandres                    1\n",
       "Schipperkee                             1\n",
       "Name: PrimaryBreed, Length: 217, dtype: int64"
      ]
     },
     "execution_count": 193,
     "metadata": {},
     "output_type": "execute_result"
    }
   ],
   "source": [
    "# Male dogs that are least likely to be spayed ---> Yorkshire Terrier\n",
    "df.AnimalGender == \"M\"\n",
    "df_male = df[df.AnimalGender == \"M\"]\n",
    "df_male[df_male.SpayedorNeut == \"No\"].PrimaryBreed.value_counts()"
   ]
  },
  {
   "cell_type": "markdown",
   "metadata": {},
   "source": [
    "## Make a new column called `monochrome` that is True for any animal that only has black, white or grey as one of its colors. How many animals are monochrome?"
   ]
  },
  {
   "cell_type": "code",
   "execution_count": 194,
   "metadata": {},
   "outputs": [],
   "source": [
    "df[\"monochrome\"] = \"\""
   ]
  },
  {
   "cell_type": "code",
   "execution_count": 195,
   "metadata": {},
   "outputs": [],
   "source": [
    "df_3color = df[df.AnimalThirdColor.isna()]"
   ]
  },
  {
   "cell_type": "code",
   "execution_count": 196,
   "metadata": {},
   "outputs": [],
   "source": [
    "df_2color = df_3color[df_3color.AnimalSecondaryColor.isna()]"
   ]
  },
  {
   "cell_type": "code",
   "execution_count": 197,
   "metadata": {},
   "outputs": [],
   "source": [
    "df_1color = df_2color[df_2color.AnimalDominantColor.isin([\"BLACK\",\"WHITE\",\"Gray\",\"GRAY\"])]"
   ]
  },
  {
   "cell_type": "code",
   "execution_count": 198,
   "metadata": {},
   "outputs": [
    {
     "name": "stderr",
     "output_type": "stream",
     "text": [
      "/var/folders/jg/7jsjjz6d6g5cxdkqkqxtc68w0000gn/T/ipykernel_46023/1039498092.py:3: SettingWithCopyWarning: \n",
      "A value is trying to be set on a copy of a slice from a DataFrame.\n",
      "Try using .loc[row_indexer,col_indexer] = value instead\n",
      "\n",
      "See the caveats in the documentation: https://pandas.pydata.org/pandas-docs/stable/user_guide/indexing.html#returning-a-view-versus-a-copy\n",
      "  df_1color.monochrome = True\n"
     ]
    }
   ],
   "source": [
    "#df = df.drop(\"monochrome\", axis = 1)\n",
    "\n",
    "df_1color.monochrome = True\n"
   ]
  },
  {
   "cell_type": "code",
   "execution_count": 199,
   "metadata": {},
   "outputs": [
    {
     "data": {
      "text/plain": [
       "True    6959\n",
       "Name: monochrome, dtype: int64"
      ]
     },
     "execution_count": 199,
     "metadata": {},
     "output_type": "execute_result"
    }
   ],
   "source": [
    "df_1color.monochrome.value_counts()\n",
    "\n",
    "# There 6959 animals are monochrome.\n",
    "## but how should I SAVE df_1color.monochrome = True back to the main dataframe?"
   ]
  },
  {
   "cell_type": "markdown",
   "metadata": {},
   "source": [
    "## How many dogs are in each borough? Plot it in a graph."
   ]
  },
  {
   "cell_type": "code",
   "execution_count": 1,
   "metadata": {},
   "outputs": [
    {
     "ename": "NameError",
     "evalue": "name 'merged' is not defined",
     "output_type": "error",
     "traceback": [
      "\u001b[0;31m---------------------------------------------------------------------------\u001b[0m",
      "\u001b[0;31mNameError\u001b[0m                                 Traceback (most recent call last)",
      "Input \u001b[0;32mIn [1]\u001b[0m, in \u001b[0;36m<cell line: 1>\u001b[0;34m()\u001b[0m\n\u001b[0;32m----> 1\u001b[0m \u001b[43mmerged\u001b[49m\u001b[38;5;241m.\u001b[39mborough\u001b[38;5;241m.\u001b[39mvalue_counts()\n",
      "\u001b[0;31mNameError\u001b[0m: name 'merged' is not defined"
     ]
    }
   ],
   "source": [
    "merged.borough.value_counts()#.plot()"
   ]
  },
  {
   "cell_type": "markdown",
   "metadata": {},
   "source": [
    "## Make a bar graph of the top 5 breeds in each borough.\n",
    "\n",
    "How do you groupby and then only take the top X number? You **really** should ask me, because it's kind of crazy."
   ]
  },
  {
   "cell_type": "code",
   "execution_count": 77,
   "metadata": {
    "scrolled": true
   },
   "outputs": [
    {
     "data": {
      "text/plain": [
       "<AxesSubplot:xlabel='borough,borough,PrimaryBreed'>"
      ]
     },
     "execution_count": 77,
     "metadata": {},
     "output_type": "execute_result"
    },
    {
     "data": {
      "image/png": "[encoded data removed]",
      "text/plain": [
       "<Figure size 432x288 with 1 Axes>"
      ]
     },
     "metadata": {
      "needs_background": "light"
     },
     "output_type": "display_data"
    }
   ],
   "source": [
    "# method 1 (with one line!)\n",
    "merged.groupby(by=\"borough\").PrimaryBreed.value_counts().groupby(level=0).nlargest(5).plot(kind=\"bar\")"
   ]
  },
  {
   "cell_type": "code",
   "execution_count": 70,
   "metadata": {},
   "outputs": [],
   "source": [
    "# Tips for myself in case I forget!!:\n",
    "# .groupby(level=0) 其实意味着你在原来valuecount的基础上，重新按照现存的两个变量来分类（这里分别为borough & PrimaryBreed）\n",
    "# 如果level = 0 那么就如题干，得出每一个区的每个狗的品种数量（value_counts)--->.nlargest(5)是用来限制top 5的，可以随时修改\n",
    "# 如果level = 1 那么得出的结果就是 ---> 每种狗品种在每个区的数量，按数量排序 --->.nlargest(5)同样是用来限制top 5，可以随时修改"
   ]
  },
  {
   "cell_type": "code",
   "execution_count": 71,
   "metadata": {},
   "outputs": [
    {
     "data": {
      "text/plain": [
       "Yorkshire Terrier     1402\n",
       "Chihuahua             1287\n",
       "Shih Tzu              1227\n",
       "Labrador Retriever    1100\n",
       "Maltese                856\n",
       "Name: PrimaryBreed, dtype: int64"
      ]
     },
     "execution_count": 71,
     "metadata": {},
     "output_type": "execute_result"
    }
   ],
   "source": [
    "# method 2 (create five different varibles and then take the top 5 number)\n",
    "\n",
    "merged_Manhattan = merged[merged.borough == \"Manhattan\"]\n",
    "merged_Manhattan.PrimaryBreed.value_counts().head(5)"
   ]
  },
  {
   "cell_type": "code",
   "execution_count": 72,
   "metadata": {},
   "outputs": [
    {
     "data": {
      "text/plain": [
       "Yorkshire Terrier     1316\n",
       "Shih Tzu              1236\n",
       "Chihuahua              987\n",
       "Labrador Retriever     655\n",
       "Maltese                640\n",
       "Name: PrimaryBreed, dtype: int64"
      ]
     },
     "execution_count": 72,
     "metadata": {},
     "output_type": "execute_result"
    }
   ],
   "source": [
    "merged_Brooklyn = merged[merged.borough == \"Brooklyn\"]\n",
    "merged_Brooklyn.PrimaryBreed.value_counts().head(5)"
   ]
  },
  {
   "cell_type": "code",
   "execution_count": 73,
   "metadata": {},
   "outputs": [
    {
     "data": {
      "text/plain": [
       "Yorkshire Terrier     1085\n",
       "Shih Tzu              1042\n",
       "Maltese                806\n",
       "Chihuahua              784\n",
       "Labrador Retriever     505\n",
       "Name: PrimaryBreed, dtype: int64"
      ]
     },
     "execution_count": 73,
     "metadata": {},
     "output_type": "execute_result"
    }
   ],
   "source": [
    "merged_Queens = merged[merged.borough == \"Queens\"]\n",
    "merged_Queens.PrimaryBreed.value_counts().head(5)"
   ]
  },
  {
   "cell_type": "code",
   "execution_count": 74,
   "metadata": {},
   "outputs": [
    {
     "data": {
      "text/plain": [
       "Yorkshire Terrier                     753\n",
       "Shih Tzu                              682\n",
       "Chihuahua                             553\n",
       "American Pit Bull Terrier/Pit Bull    442\n",
       "Maltese                               345\n",
       "Name: PrimaryBreed, dtype: int64"
      ]
     },
     "execution_count": 74,
     "metadata": {},
     "output_type": "execute_result"
    }
   ],
   "source": [
    "merged_Bronx = merged[merged.borough == \"Bronx\"]\n",
    "merged_Bronx.PrimaryBreed.value_counts().head(5)"
   ]
  },
  {
   "cell_type": "code",
   "execution_count": 75,
   "metadata": {},
   "outputs": [
    {
     "data": {
      "text/plain": [
       "Yorkshire Terrier     525\n",
       "Shih Tzu              501\n",
       "Labrador Retriever    404\n",
       "Maltese               284\n",
       "Chihuahua             261\n",
       "Name: PrimaryBreed, dtype: int64"
      ]
     },
     "execution_count": 75,
     "metadata": {},
     "output_type": "execute_result"
    }
   ],
   "source": [
    "merged_StatenIsland  = merged[merged.borough == \"Staten Island\"]\n",
    "merged_StatenIsland.PrimaryBreed.value_counts().head(5)"
   ]
  },
  {
   "cell_type": "code",
   "execution_count": null,
   "metadata": {},
   "outputs": [],
   "source": []
  }
 ],
 "metadata": {
  "kernelspec": {
   "display_name": "Python 3 (ipykernel)",
   "language": "python",
   "name": "python3"
  },
  "language_info": {
   "codemirror_mode": {
    "name": "ipython",
    "version": 3
   },
   "file_extension": ".py",
   "mimetype": "text/x-python",
   "name": "python",
   "nbconvert_exporter": "python",
   "pygments_lexer": "ipython3",
   "version": "3.10.3"
  }
 },
 "nbformat": 4,
 "nbformat_minor": 2
}
